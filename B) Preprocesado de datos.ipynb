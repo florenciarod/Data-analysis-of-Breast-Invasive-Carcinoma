{
  "cells": [
    {
      "cell_type": "markdown",
      "metadata": {},
      "source": [
        "# Parte B: Preprocesado de datos"
      ]
    },
    {
      "cell_type": "markdown",
      "metadata": {
        "id": "-E9liidt7PAS"
      },
      "source": [
        "## **1.** Cargar resultados de la parte anterior.\n",
        "\n",
        "📝 Carga del archivo `df_unico.csv` que generamos en la Parte A: obtención de datos. \n"
      ]
    },
    {
      "cell_type": "code",
      "execution_count": 2,
      "metadata": {
        "colab": {
          "base_uri": "https://localhost:8080/"
        },
        "id": "ZE-mBYw89YBE",
        "outputId": "c77ba42a-9f70-4793-98b1-f4e18c998cfc"
      },
      "outputs": [
        {
          "name": "stderr",
          "output_type": "stream",
          "text": [
            "C:\\Users\\Usuario PC\\AppData\\Local\\Temp\\ipykernel_17516\\902138006.py:5: DtypeWarning: Columns (17,22,33) have mixed types. Specify dtype option on import or set low_memory=False.\n",
            "  df = pd.read_csv('df_unico.csv', sep=',', comment='#')\n"
          ]
        }
      ],
      "source": [
        "import pandas as pd\n",
        "path = '/Users/Usuario PC/OneDrive/Documentos/Esp. Bioinformática/TIAD/df_unico'\n",
        "\n",
        "# Leemos el archivo df_unico.csv y lo guardamos en un DataFrame\n",
        "df = pd.read_csv('df_unico.csv', sep=',', comment='#')\n"
      ]
    },
    {
      "cell_type": "code",
      "execution_count": 3,
      "metadata": {
        "colab": {
          "base_uri": "https://localhost:8080/"
        },
        "id": "bOhekVxsrEad",
        "outputId": "580d74f2-662f-40e4-8b32-838b7dbf2dbb"
      },
      "outputs": [
        {
          "name": "stdout",
          "output_type": "stream",
          "text": [
            "     PATIENT_ID     SEX   AGE METASTASIS   OS_STATUS  OS_MONTHS  \\\n",
            "0  TCGA-A2-A0T2  Female  66.0         M1  1:DECEASED       7.89   \n",
            "1  TCGA-A2-A04P  Female  36.0         M0  1:DECEASED      17.97   \n",
            "2  TCGA-A1-A0SK  Female  54.0         M0  1:DECEASED      31.77   \n",
            "3  TCGA-A2-A0CM  Female  40.0         M0  1:DECEASED      24.77   \n",
            "4  TCGA-AR-A1AR  Female  50.0         M0  1:DECEASED      17.18   \n",
            "\n",
            "         SAMPLE_ID ER_STATUS PR_STATUS HER2_STATUS  ... SLC2A11   GRIP2  \\\n",
            "0  TCGA-A2-A0T2-01  Negative  Negative    Negative  ...  2.1991  0.1544   \n",
            "1  TCGA-A2-A04P-01  Negative  Negative    Negative  ... -0.6395 -0.2865   \n",
            "2  TCGA-A1-A0SK-01  Negative  Negative    Negative  ... -0.6395 -0.2865   \n",
            "3  TCGA-A2-A0CM-01  Negative  Negative    Negative  ... -0.6395 -0.2865   \n",
            "4  TCGA-AR-A1AR-01  Negative  Negative    Negative  ... -0.6395 -0.2865   \n",
            "\n",
            "   GPLD1   RAB8A   RXFP2 PIK3IP1 SLC39A6  SNRPD2    AQP7    CTSC  \n",
            "0 -0.363 -0.1779  1.1753 -1.6969 -0.9826  0.1062 -0.5218 -0.5842  \n",
            "1 -0.363  1.9209  1.2128 -2.5818 -0.9826  1.0638 -0.3011  0.4852  \n",
            "2 -0.363  1.3462 -0.8133 -0.0933 -0.9826 -0.7018 -0.5218 -0.5842  \n",
            "3 -0.363 -0.3764  0.7278 -0.5590 -0.9826  0.7508 -0.5218 -0.1063  \n",
            "4 -0.363 -0.6716  0.9018 -0.3168 -0.9826  0.1956  2.1747  1.8586  \n",
            "\n",
            "[5 rows x 17302 columns]\n",
            "-----------------------------------\n",
            "El DataFrame tiene 825 filas y 17302 columnas.\n"
          ]
        }
      ],
      "source": [
        "print(df.head())\n",
        "\n",
        "print(f\"-----------------------------------\")\n",
        "print(f\"El DataFrame tiene {len(df)} filas y {len(df.columns)} columnas.\")"
      ]
    },
    {
      "cell_type": "markdown",
      "metadata": {
        "id": "zIimxVHL9tkE"
      },
      "source": [
        "## **2.** Limpieza y numerizado.\n",
        "\n",
        "Como se aplicarán un tipo de técnicas de análisis específico sobre los datos, los mismos se deben preprocesar antes de usarlos."
      ]
    },
    {
      "cell_type": "markdown",
      "metadata": {
        "id": "KncWKQFQ974b"
      },
      "source": [
        "### Limpieza\n",
        "\n",
        "En nuestro DataFrame tenemos filas de datos que tienen campos con valores nulos (NaN). Se identifican cuales son."
      ]
    },
    {
      "cell_type": "code",
      "execution_count": 4,
      "metadata": {
        "colab": {
          "base_uri": "https://localhost:8080/"
        },
        "id": "jvSmLtEd94yT",
        "outputId": "2710df35-7d2f-412e-a7cf-841aed212395"
      },
      "outputs": [
        {
          "name": "stdout",
          "output_type": "stream",
          "text": [
            "PATIENT_ID      0\n",
            "SEX             7\n",
            "AGE             7\n",
            "METASTASIS     40\n",
            "OS_STATUS       7\n",
            "             ... \n",
            "PIK3IP1       299\n",
            "SLC39A6       299\n",
            "SNRPD2        299\n",
            "AQP7          299\n",
            "CTSC          299\n",
            "Length: 17302, dtype: int64\n",
            "-----------------------------------\n",
            "El DataFrame tiene 825 filas.\n"
          ]
        }
      ],
      "source": [
        "# Mostrar cantidad de valores NaN por columna\n",
        "nan_counts = df.isna().sum()\n",
        "print(nan_counts)\n",
        "\n",
        "# Mostrar cantidad de filas del conjunto de datos\n",
        "print(f\"-----------------------------------\")\n",
        "print(f\"El DataFrame tiene {len(df)} filas.\")"
      ]
    },
    {
      "cell_type": "markdown",
      "metadata": {
        "id": "a-Gfuh0T-BZz"
      },
      "source": [
        "En este caso nos interesa deshacernos de aquellas filas donde el atributo `METASTASIS` sea `NaN`\n",
        "\n",
        "📝 **a)** Eliminar las filas donde el atributo `METASTASIS` sea `NaN`."
      ]
    },
    {
      "cell_type": "code",
      "execution_count": 5,
      "metadata": {
        "id": "zy0N7cZQ9--T"
      },
      "outputs": [],
      "source": [
        "# Eliminar filas con valores donde el atributo 'METASTASIS' tiene valor nulos\n",
        "\n",
        "df = df.dropna(subset=['METASTASIS']) "
      ]
    },
    {
      "cell_type": "code",
      "execution_count": 6,
      "metadata": {
        "colab": {
          "base_uri": "https://localhost:8080/"
        },
        "id": "najEjLhx-DU6",
        "outputId": "0464721d-9f7f-41c2-cacb-bca9be303112"
      },
      "outputs": [
        {
          "name": "stdout",
          "output_type": "stream",
          "text": [
            "PATIENT_ID      0\n",
            "SEX             0\n",
            "AGE             0\n",
            "METASTASIS      0\n",
            "OS_STATUS       0\n",
            "             ... \n",
            "PIK3IP1       266\n",
            "SLC39A6       266\n",
            "SNRPD2        266\n",
            "AQP7          266\n",
            "CTSC          266\n",
            "Length: 17302, dtype: int64\n",
            "-----------------------------------\n",
            "El DataFrame tiene 785 filas .\n"
          ]
        }
      ],
      "source": [
        "# Mostrar cantidad de valores NaN por columna\n",
        "nan_counts = df.isna().sum()\n",
        "print(nan_counts)\n",
        "\n",
        "print(f\"-----------------------------------\")\n",
        "# La cantidad de filas deberia haber reducido en 40\n",
        "print(f\"El DataFrame tiene {len(df)} filas .\")"
      ]
    },
    {
      "cell_type": "markdown",
      "metadata": {
        "id": "bYNeukOd-ExC"
      },
      "source": [
        "Las filas que tienen valores nulos en `METASTASIS` coinciden con aquellas donde otros atributos como `SEX`, `OS_STATUS` tampoco estaban definidos. Es una buena situación, pero para lograrlo tuvimos que sacrificar varias filas que si tienen información en otros campos.\n",
        "\n",
        "Dependiendo de la situación hay que valorar que merece mas la pena:\n",
        "- Eliminar las filas con valores `NaN`: si el atributo con valor `NaN` no es muy importante capaz no vale la pena perder los demás datos de la fila.\n",
        "- Eliminar columna con atributos `NaN`: esto tiene la contra de que se pierde el atributo para todas las filas. No obstante, es una buena opción si la columna tiene en su mayor parte valores `NaN`.\n",
        "- Suplantar los `NaN` con otros valores: Se puede asignar un valor a todos los campos que tengan `NaN` pero esto se tiene que hacer de forma dedicada a cada campo y con cuidado, por que podría equivaler a inventarse datos.\n",
        "- Dejar los valores `NaN`: hay algoritmos que lo toleran.\n",
        "\n",
        "Estos son algunos posibles cursos de acción para el preprocesamiento, el que hacer en cada caso depende del criterio propio, los datos de los que dispongamos y las técnicas que queramos aplicar."
      ]
    },
    {
      "cell_type": "markdown",
      "metadata": {
        "id": "d37DrV2c-IFD"
      },
      "source": [
        "### Numerizado\n",
        "\n",
        "La variable `df` contiene atributos tanto categóricos como numéricos. Nos interesa que todos los atributos sean numéricos por lo que tendremos que transformar aquellos que no lo sean."
      ]
    },
    {
      "cell_type": "code",
      "execution_count": 7,
      "metadata": {
        "colab": {
          "base_uri": "https://localhost:8080/"
        },
        "id": "o59Dv56y-LqS",
        "outputId": "d811bb52-1ede-4ce7-f33c-423f508b4ee7"
      },
      "outputs": [
        {
          "name": "stdout",
          "output_type": "stream",
          "text": [
            "PATIENT_ID              object\n",
            "SEX                     object\n",
            "METASTASIS              object\n",
            "OS_STATUS               object\n",
            "SAMPLE_ID               object\n",
            "ER_STATUS               object\n",
            "PR_STATUS               object\n",
            "HER2_STATUS             object\n",
            "TUMOR_STAGE             object\n",
            "TUMOR_T1_CODED          object\n",
            "NODES                   object\n",
            "NODE_CODED              object\n",
            "METASTASIS_CODED        object\n",
            "CONVERTED_STAGE         object\n",
            "SURVIVAL_DATA_FORM      object\n",
            "PAM50_SUBTYPE           object\n",
            "RPPA_CLUSTER            object\n",
            "CANCER_TYPE_DETAILED    object\n",
            "ONCOTREE_CODE           object\n",
            "CANCER_TYPE             object\n",
            "SAMPLE_TYPE             object\n",
            "SOMATIC_STATUS          object\n",
            "subtype                 object\n",
            "dtype: object\n"
          ]
        }
      ],
      "source": [
        "# Mostrar los nombres y tipos de todas las columnas que NO sean de tipo numerico\n",
        "print(df.select_dtypes(exclude='number').dtypes)"
      ]
    },
    {
      "cell_type": "markdown",
      "metadata": {
        "id": "qSNef7QH-NuT"
      },
      "source": [
        "En esta ocasión, al realizar la carga de los archivos de datos en un DataFrame, todas las columnas con valores de tipo numérico se cargaron correctamente. No obstante, todas las demás columnas fueron catalogadas como object. Esto es una buena catalogación para *SAMPLE_ID* y para *PATIENT_ID*. Pero no para todos los demás campos.\n",
        "\n",
        "A continuación se cambiará el tipo de columna de object a category en todas las varibles que correspondan."
      ]
    },
    {
      "cell_type": "code",
      "execution_count": 8,
      "metadata": {
        "id": "48revyF2-S2z"
      },
      "outputs": [],
      "source": [
        "# Cambiar tipo de columna SEX\n",
        "df['SEX'] = df['SEX'].astype('category')"
      ]
    },
    {
      "cell_type": "code",
      "execution_count": 9,
      "metadata": {
        "colab": {
          "base_uri": "https://localhost:8080/"
        },
        "id": "XfRRkB46sXK1",
        "outputId": "263e7d9f-4bb0-4848-f61d-fc0935434d80"
      },
      "outputs": [
        {
          "name": "stdout",
          "output_type": "stream",
          "text": [
            "PATIENT_ID                object\n",
            "SEX                     category\n",
            "METASTASIS                object\n",
            "OS_STATUS                 object\n",
            "SAMPLE_ID                 object\n",
            "ER_STATUS                 object\n",
            "PR_STATUS                 object\n",
            "HER2_STATUS               object\n",
            "TUMOR_STAGE               object\n",
            "TUMOR_T1_CODED            object\n",
            "NODES                     object\n",
            "NODE_CODED                object\n",
            "METASTASIS_CODED          object\n",
            "CONVERTED_STAGE           object\n",
            "SURVIVAL_DATA_FORM        object\n",
            "PAM50_SUBTYPE             object\n",
            "RPPA_CLUSTER              object\n",
            "CANCER_TYPE_DETAILED      object\n",
            "ONCOTREE_CODE             object\n",
            "CANCER_TYPE               object\n",
            "SAMPLE_TYPE               object\n",
            "SOMATIC_STATUS            object\n",
            "subtype                   object\n",
            "dtype: object\n"
          ]
        }
      ],
      "source": [
        "print(df.select_dtypes(exclude='number').dtypes)"
      ]
    },
    {
      "cell_type": "markdown",
      "metadata": {
        "id": "2L9sgiyO-mlc"
      },
      "source": [
        "📝 Corrección de todos los atributos que están clasificados como object a excepción de *PATIENT_ID* y *SAMPLE_ID*."
      ]
    },
    {
      "cell_type": "code",
      "execution_count": 10,
      "metadata": {
        "id": "Zf9m59E5-o6a"
      },
      "outputs": [],
      "source": [
        "\n",
        "df['METASTASIS'] = df['METASTASIS'].astype('category')\n",
        "df['OS_STATUS'] = df['OS_STATUS'].astype('category')\n",
        "df['ER_STATUS'] = df['ER_STATUS'].astype('category')\n",
        "df['PR_STATUS'] = df['PR_STATUS'].astype('category')\n",
        "df['HER2_STATUS'] = df['HER2_STATUS'].astype('category')\n",
        "df['TUMOR_STAGE'] = df['TUMOR_STAGE'].astype('category')\n",
        "df['TUMOR_T1_CODED'] = df['TUMOR_T1_CODED'].astype('category')\n",
        "df['TUMOR_T1_CODED'] = df['TUMOR_T1_CODED'].astype('category')\n",
        "df['NODES'] = df['NODES'].astype('category')\n",
        "df['NODE_CODED'] = df['NODE_CODED'].astype('category')\n",
        "df['METASTASIS_CODED'] = df['METASTASIS_CODED'].astype('category')\n",
        "df['CONVERTED_STAGE'] = df['CONVERTED_STAGE'].astype('category')\n",
        "df['SURVIVAL_DATA_FORM'] = df['SURVIVAL_DATA_FORM'].astype('category')\n",
        "df['PAM50_SUBTYPE'] = df['PAM50_SUBTYPE'].astype('category')\n",
        "df['RPPA_CLUSTER'] = df['RPPA_CLUSTER'].astype('category')\n",
        "df['CANCER_TYPE_DETAILED'] = df['CANCER_TYPE_DETAILED'].astype('category')\n",
        "df['ONCOTREE_CODE'] = df['ONCOTREE_CODE'].astype('category')\n",
        "df['CANCER_TYPE'] = df['CANCER_TYPE'].astype('category')\n",
        "df['SAMPLE_TYPE'] = df['SAMPLE_TYPE'].astype('category')\n",
        "df['SOMATIC_STATUS'] = df['SOMATIC_STATUS'].astype('category')\n",
        "df['TMB_NONSYNONYMOUS'] = df['TMB_NONSYNONYMOUS'].astype('category')\n",
        "df['subtype'] = df['subtype'].astype('category')\n",
        "# ------------------------------------------------------"
      ]
    },
    {
      "cell_type": "code",
      "execution_count": 11,
      "metadata": {
        "colab": {
          "base_uri": "https://localhost:8080/"
        },
        "id": "542r_mXj-x8r",
        "outputId": "d8bc1f5e-8b8c-42bb-8dc9-7452a5fa4693"
      },
      "outputs": [
        {
          "name": "stdout",
          "output_type": "stream",
          "text": [
            "PATIENT_ID                object\n",
            "SEX                     category\n",
            "METASTASIS              category\n",
            "OS_STATUS               category\n",
            "SAMPLE_ID                 object\n",
            "ER_STATUS               category\n",
            "PR_STATUS               category\n",
            "HER2_STATUS             category\n",
            "TUMOR_STAGE             category\n",
            "TUMOR_T1_CODED          category\n",
            "NODES                   category\n",
            "NODE_CODED              category\n",
            "METASTASIS_CODED        category\n",
            "CONVERTED_STAGE         category\n",
            "SURVIVAL_DATA_FORM      category\n",
            "PAM50_SUBTYPE           category\n",
            "RPPA_CLUSTER            category\n",
            "CANCER_TYPE_DETAILED    category\n",
            "ONCOTREE_CODE           category\n",
            "CANCER_TYPE             category\n",
            "SAMPLE_TYPE             category\n",
            "SOMATIC_STATUS          category\n",
            "TMB_NONSYNONYMOUS       category\n",
            "subtype                 category\n",
            "dtype: object\n"
          ]
        }
      ],
      "source": [
        "print(df.select_dtypes(exclude='number').dtypes)"
      ]
    },
    {
      "cell_type": "markdown",
      "metadata": {
        "id": "0Jmy-udZ-vha"
      },
      "source": [
        "#### **a)** Numerización de identificadores únicos\n",
        "\n",
        "Los campos PATIENT_ID y SAMPLE_ID corresponden a identificadores únicos (no va a haber 2 filas con los mismos valores en PATIENT_ID y/o en SAMPLE_ID).\n",
        "\n",
        "📝 Mapeo de los valores de las columnas PATIENT_ID y SAMPLE_ID a valores numéricos, mapeando cada código un número distinto."
      ]
    },
    {
      "cell_type": "code",
      "execution_count": 12,
      "metadata": {
        "id": "HYN7UilM-u7j"
      },
      "outputs": [],
      "source": [
        "import pandas as pd\n",
        "\n",
        "# Se utiliza la funcion `factorize` de la libreria\n",
        "# pandas para mapear una los valores de una columna a valores numéricos)\n",
        "df['PATIENT_ID'] = pd.factorize(df['PATIENT_ID'])[0] + 1  \n",
        "df['SAMPLE_ID'] = pd.factorize(df['SAMPLE_ID'])[0] + 1  "
      ]
    },
    {
      "cell_type": "code",
      "execution_count": 13,
      "metadata": {
        "colab": {
          "base_uri": "https://localhost:8080/"
        },
        "id": "WXDHq9AD-9WL",
        "outputId": "d808466e-e5af-40ca-f0fa-68bbe1ec64f1"
      },
      "outputs": [
        {
          "name": "stdout",
          "output_type": "stream",
          "text": [
            "---------------------------------------------\n",
            "0    1\n",
            "1    2\n",
            "2    3\n",
            "3    4\n",
            "4    5\n",
            "Name: PATIENT_ID, dtype: int64\n",
            "La columa tiene 785 filas.\n",
            "---------------------------------------------\n",
            "0    1\n",
            "1    2\n",
            "2    3\n",
            "3    4\n",
            "4    5\n",
            "Name: SAMPLE_ID, dtype: int64\n",
            "La columa tiene 785 filas.\n",
            "---------------------------------------------\n"
          ]
        }
      ],
      "source": [
        "print('---------------------------------------------')\n",
        "print(df['PATIENT_ID'].head())\n",
        "print(f\"La columa tiene {len(df['PATIENT_ID'])} filas.\")\n",
        "print('---------------------------------------------')\n",
        "print(df['SAMPLE_ID'].head())\n",
        "print(f\"La columa tiene {len(df['SAMPLE_ID'])} filas.\")\n",
        "print('---------------------------------------------')"
      ]
    },
    {
      "cell_type": "markdown",
      "metadata": {
        "id": "EIcPGpdj-7lj"
      },
      "source": [
        "#### **b)**  Numerización de ordinales\n",
        "\n",
        "El caso del atributo `TUMOR_STAGE` puede contener los valores: *T1*, *T2*, *T3* y *T4*. En este caso sería correcto catalogar `TUMOR_STAGE` como un atributo **categórico ordinal**."
      ]
    },
    {
      "cell_type": "code",
      "execution_count": 14,
      "metadata": {
        "colab": {
          "base_uri": "https://localhost:8080/"
        },
        "id": "tuw5_bxY_COj",
        "outputId": "80211ae6-e8a7-405b-d1ea-d2b780153346"
      },
      "outputs": [
        {
          "name": "stdout",
          "output_type": "stream",
          "text": [
            "['T3', 'T2', 'T1', 'TX', 'T4']\n"
          ]
        }
      ],
      "source": [
        "# Mostrar lista de posibles valores de la columna TUMOR_STAGE\n",
        "print(df['TUMOR_STAGE'].unique().tolist())"
      ]
    },
    {
      "cell_type": "markdown",
      "metadata": {
        "id": "9dwjHALauEJl"
      },
      "source": [
        "Nota: El DataFrame tiene 2 filas donde `TUMOR_STAGE == 'TX'`. Esto significa que no se conoce en qué etapa se encuentra un tumor. No nos interesan estos casos por lo que simplemente los borraremos"
      ]
    },
    {
      "cell_type": "code",
      "execution_count": 15,
      "metadata": {
        "id": "JBo64USAu6b_"
      },
      "outputs": [],
      "source": [
        "import numpy as np\n",
        "\n",
        "# Nos quedamos solo con las filas que son distintas a 'TX'\n",
        "df = df[df['TUMOR_STAGE'] != 'TX']"
      ]
    },
    {
      "cell_type": "code",
      "execution_count": 16,
      "metadata": {
        "colab": {
          "base_uri": "https://localhost:8080/"
        },
        "id": "PQNlTSTptreN",
        "outputId": "ac2b333d-2a80-4b9e-b1a7-0c7404a2bef4"
      },
      "outputs": [
        {
          "name": "stdout",
          "output_type": "stream",
          "text": [
            "['T3', 'T2', 'T1', 'T4']\n"
          ]
        }
      ],
      "source": [
        "print(df['TUMOR_STAGE'].unique().tolist())"
      ]
    },
    {
      "cell_type": "markdown",
      "metadata": {
        "id": "LR6sh0Zp_Dbc"
      },
      "source": [
        "\n",
        "📝 A continuación se mapea los valores de la columna *TUMOR_STAGE* a valores numéricos donde se vea reflejado el criterio de ordenación *T1 < T2 < T3 < T4*."
      ]
    },
    {
      "cell_type": "code",
      "execution_count": 17,
      "metadata": {
        "id": "0SmdbMm3_IeD"
      },
      "outputs": [],
      "source": [
        "# Diccionario de mapeo\n",
        "stage_mapping = {'T1': 1, 'T2': 2, 'T3': 3, 'T4': 4}\n",
        "\n",
        "# Aplica el mapa a la columna TUMOR_STAGE \n",
        "df['TUMOR_STAGE'] = df['TUMOR_STAGE'].map(stage_mapping)  "
      ]
    },
    {
      "cell_type": "code",
      "execution_count": 18,
      "metadata": {
        "colab": {
          "base_uri": "https://localhost:8080/"
        },
        "id": "GGclr2wt_I5s",
        "outputId": "dfa707c2-c576-4603-f5ee-603f7ae31d06"
      },
      "outputs": [
        {
          "name": "stdout",
          "output_type": "stream",
          "text": [
            "0    3.0\n",
            "1    2.0\n",
            "2    2.0\n",
            "3    2.0\n",
            "4    1.0\n",
            "Name: TUMOR_STAGE, dtype: float64\n",
            "La columa tiene 783 filas.\n"
          ]
        }
      ],
      "source": [
        "# Mostrar primeros valores de la columna\n",
        "print(df['TUMOR_STAGE'].head())\n",
        "print(f\"La columa tiene {len(df['TUMOR_STAGE'])} filas.\")"
      ]
    },
    {
      "cell_type": "code",
      "execution_count": 19,
      "metadata": {
        "colab": {
          "base_uri": "https://localhost:8080/"
        },
        "id": "Rny_OKuX_Lub",
        "outputId": "f87f5a20-4202-45e8-86af-4d3311b4eb50"
      },
      "outputs": [
        {
          "name": "stdout",
          "output_type": "stream",
          "text": [
            "[3.0, 2.0, 1.0, 4.0]\n"
          ]
        }
      ],
      "source": [
        "# Volver a mostrar la lista de posibles valores de la columna TUMOR_STAGE\n",
        "print(df['TUMOR_STAGE'].unique().tolist())"
      ]
    },
    {
      "cell_type": "markdown",
      "metadata": {},
      "source": [
        "📝 A continuación se mapea de la misma forma los valores del atributo 'METASTASIS'"
      ]
    },
    {
      "cell_type": "code",
      "execution_count": 20,
      "metadata": {
        "colab": {
          "base_uri": "https://localhost:8080/"
        },
        "id": "oc8zlla5_oKT",
        "outputId": "c2fab356-e165-44c2-927c-e0b6d3db4b47"
      },
      "outputs": [
        {
          "name": "stdout",
          "output_type": "stream",
          "text": [
            "[1, 0]\n"
          ]
        }
      ],
      "source": [
        "# Numerizar 'METASTASIS'\n",
        "stage_mapping = {'M0': 0, 'M1': 1, 'M2': 2, 'M3': 3, 'M4': 4} \n",
        "df['METASTASIS'] = df['METASTASIS'].map(stage_mapping)        \n",
        "print(df['METASTASIS'].unique().tolist())"
      ]
    },
    {
      "cell_type": "markdown",
      "metadata": {
        "id": "eAsu8GNN_FbT"
      },
      "source": [
        "#### **c)** Numerizacion de nominales\n",
        "\n",
        "Hay otros atributos como `PAM50_SUBTYPE` que son **categóricos nominales**. Osea que no necesariamente existe un orden entre sus distintas categorías.\n",
        "\n",
        "Para numerizar este tipo de casos se empleará la técnica *One-Hot Encoding*.\n",
        "\n",
        "📝 Numerización de la columna categórica `PAM50_SUBTYPE` acorde a la técnica *One-Hot Encoding*."
      ]
    },
    {
      "cell_type": "code",
      "execution_count": 21,
      "metadata": {
        "colab": {
          "base_uri": "https://localhost:8080/"
        },
        "id": "LCul-_v3_PKr",
        "outputId": "950a8d87-0863-411f-f465-235f52a6bdee"
      },
      "outputs": [
        {
          "name": "stdout",
          "output_type": "stream",
          "text": [
            "['Basal-like', 'HER2-enriched', 'Luminal A', 'Luminal B', 'Normal-like', nan]\n",
            "---------------------------------------------\n",
            "0    Basal-like\n",
            "1    Basal-like\n",
            "2    Basal-like\n",
            "3    Basal-like\n",
            "4    Basal-like\n",
            "Name: PAM50_SUBTYPE, dtype: category\n",
            "Categories (5, object): ['Basal-like', 'HER2-enriched', 'Luminal A', 'Luminal B', 'Normal-like']\n",
            "El DataFrame tiene 783 filas y 17302 columnas.\n"
          ]
        }
      ],
      "source": [
        "# Mostrar lista de posibles valores de la columna PAM50_SUBTYPE\n",
        "print(df['PAM50_SUBTYPE'].unique().tolist())\n",
        "\n",
        "print('---------------------------------------------')\n",
        "print(df['PAM50_SUBTYPE'].head())\n",
        "print(f\"El DataFrame tiene {len(df)} filas y {len(df.columns)} columnas.\")"
      ]
    },
    {
      "cell_type": "code",
      "execution_count": 22,
      "metadata": {
        "id": "w77EaV9z_PUL"
      },
      "outputs": [],
      "source": [
        "import pandas as pd\n",
        "\n",
        "# Numerización ONE-HOT de la columna 'PAM50_SUBTYPE' con el método 'get_dummies' de la librería pandas \n",
        "df = pd.get_dummies(df, columns=['PAM50_SUBTYPE']) "
      ]
    },
    {
      "cell_type": "code",
      "execution_count": 23,
      "metadata": {
        "colab": {
          "base_uri": "https://localhost:8080/"
        },
        "id": "-hZxO4sS_Pgz",
        "outputId": "d45bc2aa-3d03-475c-e826-44c1f7d77983"
      },
      "outputs": [
        {
          "name": "stdout",
          "output_type": "stream",
          "text": [
            "   PATIENT_ID     SEX   AGE METASTASIS   OS_STATUS  OS_MONTHS  SAMPLE_ID  \\\n",
            "0           1  Female  66.0          1  1:DECEASED       7.89          1   \n",
            "1           2  Female  36.0          0  1:DECEASED      17.97          2   \n",
            "2           3  Female  54.0          0  1:DECEASED      31.77          3   \n",
            "3           4  Female  40.0          0  1:DECEASED      24.77          4   \n",
            "4           5  Female  50.0          0  1:DECEASED      17.18          5   \n",
            "\n",
            "  ER_STATUS PR_STATUS HER2_STATUS  ...  PIK3IP1 SLC39A6  SNRPD2    AQP7  \\\n",
            "0  Negative  Negative    Negative  ...  -1.6969 -0.9826  0.1062 -0.5218   \n",
            "1  Negative  Negative    Negative  ...  -2.5818 -0.9826  1.0638 -0.3011   \n",
            "2  Negative  Negative    Negative  ...  -0.0933 -0.9826 -0.7018 -0.5218   \n",
            "3  Negative  Negative    Negative  ...  -0.5590 -0.9826  0.7508 -0.5218   \n",
            "4  Negative  Negative    Negative  ...  -0.3168 -0.9826  0.1956  2.1747   \n",
            "\n",
            "     CTSC PAM50_SUBTYPE_Basal-like PAM50_SUBTYPE_HER2-enriched  \\\n",
            "0 -0.5842                     True                       False   \n",
            "1  0.4852                     True                       False   \n",
            "2 -0.5842                     True                       False   \n",
            "3 -0.1063                     True                       False   \n",
            "4  1.8586                     True                       False   \n",
            "\n",
            "   PAM50_SUBTYPE_Luminal A  PAM50_SUBTYPE_Luminal B  PAM50_SUBTYPE_Normal-like  \n",
            "0                    False                    False                      False  \n",
            "1                    False                    False                      False  \n",
            "2                    False                    False                      False  \n",
            "3                    False                    False                      False  \n",
            "4                    False                    False                      False  \n",
            "\n",
            "[5 rows x 17306 columns]\n",
            "El DataFrame tiene 783 filas y 17306 columnas.\n"
          ]
        }
      ],
      "source": [
        "print(df.head())\n",
        "print(f\"El DataFrame tiene {len(df)} filas y {len(df.columns)} columnas.\")"
      ]
    },
    {
      "cell_type": "markdown",
      "metadata": {
        "id": "V8Eyc2yI_Pm7"
      },
      "source": [
        "**Nota:** De acuerdo a la versión de pandas que se esté usando las columnas derivadas de `PAM50_SUBTYPE` (ósea `[PAM50_SUBTYPE_Basal-like, PAM50_SUBTYPE_HER2-enriched, PAM50_SUBTYPE_Luminal A, PAM50_SUBTYPE_Luminal B, PAM50_SUBTYPE_Normal-like]`) no quedan con una codificación numérica `[0, 1]`, sino con una codificación booleana `[True, False]`. Es aceptable también."
      ]
    },
    {
      "cell_type": "markdown",
      "metadata": {},
      "source": [
        "📝 Numerización de la columna categórica `PE_STATUS` acorde a la técnica *One-Hot Encoding*."
      ]
    },
    {
      "cell_type": "code",
      "execution_count": 24,
      "metadata": {
        "id": "aSTajX9P0Xz3"
      },
      "outputs": [
        {
          "name": "stdout",
          "output_type": "stream",
          "text": [
            "['Negative', 'Positive', 'Performed but Not Available', 'Not Performed', 'Indeterminate']\n"
          ]
        }
      ],
      "source": [
        "# Mirar valores de 'ER_STATUS'\n",
        "print(df['ER_STATUS'].unique().tolist())"
      ]
    },
    {
      "cell_type": "code",
      "execution_count": 25,
      "metadata": {
        "id": "kqCYJ3v6_oMr"
      },
      "outputs": [],
      "source": [
        "# Numerizar 'ER_STATUS'\n",
        "df = pd.get_dummies(df, columns=['ER_STATUS']) "
      ]
    },
    {
      "cell_type": "markdown",
      "metadata": {
        "id": "mVpEVWgl_V8j"
      },
      "source": [
        "#### **d)** Numerizacion de binarios\n",
        "\n",
        "Por último hay otros atributos como `OS_STATUS` que solo tienen 2 posibles valores `['1:DECEASED', '0:LIVING']`. En estos casos basta con hacer que el campo tome valor 1 para uno de estos dos valores y 0 para el otro.\n",
        "\n",
        "📝 Numerización de el atributo binario `OS_STATUS`."
      ]
    },
    {
      "cell_type": "code",
      "execution_count": 26,
      "metadata": {
        "colab": {
          "base_uri": "https://localhost:8080/"
        },
        "id": "PMhfSd9F_WHy",
        "outputId": "2ed4c5f0-276b-4011-dba5-72404a22f28e"
      },
      "outputs": [
        {
          "name": "stdout",
          "output_type": "stream",
          "text": [
            "['1:DECEASED', '0:LIVING']\n",
            "---------------------------------------------\n",
            "0    1:DECEASED\n",
            "1    1:DECEASED\n",
            "2    1:DECEASED\n",
            "3    1:DECEASED\n",
            "4    1:DECEASED\n",
            "Name: OS_STATUS, dtype: category\n",
            "Categories (2, object): ['0:LIVING', '1:DECEASED']\n",
            "La columa tiene 783 filas.\n"
          ]
        }
      ],
      "source": [
        "# Mostrar lista de posibles valores de la columna TUMOR_STAGE\n",
        "print(df['OS_STATUS'].unique().tolist())\n",
        "\n",
        "print('---------------------------------------------')\n",
        "print(df['OS_STATUS'].head())\n",
        "print(f\"La columa tiene {len(df['OS_STATUS'])} filas.\")"
      ]
    },
    {
      "cell_type": "code",
      "execution_count": 27,
      "metadata": {
        "id": "LkvavEZ-_avL"
      },
      "outputs": [],
      "source": [
        "import numpy as np\n",
        "\n",
        "# Numerización de el atributo OS_STATUS con la función 'where' de la librería de numpy\n",
        "# (Nota: también se podría haber hecho con el mapeo de posibles valores como en los anteriores) \n",
        "\n",
        "df['OS_STATUS'] = np.where(df['OS_STATUS'] == '0:LIVING', 0, 1)"
      ]
    },
    {
      "cell_type": "code",
      "execution_count": 28,
      "metadata": {
        "colab": {
          "base_uri": "https://localhost:8080/"
        },
        "id": "vihhfUoU_ayD",
        "outputId": "378cba9c-21f6-4083-8e75-1f9e7233c9b7"
      },
      "outputs": [
        {
          "name": "stdout",
          "output_type": "stream",
          "text": [
            "[1, 0]\n",
            "---------------------------------------------\n",
            "0    1\n",
            "1    1\n",
            "2    1\n",
            "3    1\n",
            "4    1\n",
            "Name: OS_STATUS, dtype: int64\n",
            "La columa tiene 783 filas.\n"
          ]
        }
      ],
      "source": [
        "# Mostrar lista de posibles valores de la columna TUMOR_STAGE\n",
        "print(df['OS_STATUS'].unique().tolist())\n",
        "\n",
        "print('---------------------------------------------')\n",
        "print(df['OS_STATUS'].head())\n",
        "print(f\"La columa tiene {len(df['OS_STATUS'])} filas.\")"
      ]
    },
    {
      "cell_type": "markdown",
      "metadata": {},
      "source": [
        "📝 A continuación se numeriza la variable binaria 'SEX' "
      ]
    },
    {
      "cell_type": "code",
      "execution_count": 29,
      "metadata": {
        "colab": {
          "base_uri": "https://localhost:8080/"
        },
        "id": "RdVI9bcs_a0q",
        "outputId": "c7a93cf2-2e36-4b12-905b-d0cda63a1da4"
      },
      "outputs": [
        {
          "name": "stdout",
          "output_type": "stream",
          "text": [
            "[1, 0]\n"
          ]
        }
      ],
      "source": [
        "# Numerizar 'SEX'\n",
        "df['SEX'] = np.where(df['SEX'] == 'Female', 1, 0) \n",
        "print(df['SEX'].unique().tolist())"
      ]
    },
    {
      "cell_type": "markdown",
      "metadata": {
        "id": "oHiF0DO3_ezE"
      },
      "source": [
        "📝 Finalmente se muestra el DataFrame con todas las columnas para poder observar si la numerización de las variables se realizó correctamente. "
      ]
    },
    {
      "cell_type": "code",
      "execution_count": 30,
      "metadata": {
        "colab": {
          "base_uri": "https://localhost:8080/"
        },
        "id": "_NH36xqk_rC0",
        "outputId": "353fd6d9-808a-40b4-e13b-1b90b6234d35"
      },
      "outputs": [
        {
          "name": "stdout",
          "output_type": "stream",
          "text": [
            "   PATIENT_ID  SEX   AGE METASTASIS  OS_STATUS  OS_MONTHS  SAMPLE_ID  \\\n",
            "0           1    1  66.0          1          1       7.89          1   \n",
            "1           2    1  36.0          0          1      17.97          2   \n",
            "2           3    1  54.0          0          1      31.77          3   \n",
            "3           4    1  40.0          0          1      24.77          4   \n",
            "4           5    1  50.0          0          1      17.18          5   \n",
            "\n",
            "  PR_STATUS HER2_STATUS  TUMOR_STAGE  ... PAM50_SUBTYPE_Basal-like  \\\n",
            "0  Negative    Negative          3.0  ...                     True   \n",
            "1  Negative    Negative          2.0  ...                     True   \n",
            "2  Negative    Negative          2.0  ...                     True   \n",
            "3  Negative    Negative          2.0  ...                     True   \n",
            "4  Negative    Negative          1.0  ...                     True   \n",
            "\n",
            "  PAM50_SUBTYPE_HER2-enriched PAM50_SUBTYPE_Luminal A PAM50_SUBTYPE_Luminal B  \\\n",
            "0                       False                   False                   False   \n",
            "1                       False                   False                   False   \n",
            "2                       False                   False                   False   \n",
            "3                       False                   False                   False   \n",
            "4                       False                   False                   False   \n",
            "\n",
            "  PAM50_SUBTYPE_Normal-like ER_STATUS_Indeterminate  ER_STATUS_Negative  \\\n",
            "0                     False                   False                True   \n",
            "1                     False                   False                True   \n",
            "2                     False                   False                True   \n",
            "3                     False                   False                True   \n",
            "4                     False                   False                True   \n",
            "\n",
            "   ER_STATUS_Not Performed  ER_STATUS_Performed but Not Available  \\\n",
            "0                    False                                  False   \n",
            "1                    False                                  False   \n",
            "2                    False                                  False   \n",
            "3                    False                                  False   \n",
            "4                    False                                  False   \n",
            "\n",
            "   ER_STATUS_Positive  \n",
            "0               False  \n",
            "1               False  \n",
            "2               False  \n",
            "3               False  \n",
            "4               False  \n",
            "\n",
            "[5 rows x 17310 columns]\n",
            "La columa tiene 783 filas.\n"
          ]
        }
      ],
      "source": [
        "# Mostrar primeros valores de cada columna\n",
        "print(df.head())\n",
        "print(f\"La columa tiene {len(df)} filas.\")"
      ]
    },
    {
      "cell_type": "markdown",
      "metadata": {
        "id": "UK_haJ6l_wTr"
      },
      "source": [
        "## **3.** Almacenamiento de resultados.\n",
        "\n",
        "📝 Una vez que tenemos los datos procesados procedemos a guardar el DataFrame en el formato csv. \n"
      ]
    },
    {
      "cell_type": "code",
      "execution_count": 31,
      "metadata": {
        "id": "JOUo06iJ_7qL"
      },
      "outputs": [],
      "source": [
        "nombre = 'df_preprocesado.csv'\n",
        "df.to_csv(nombre, index=False) "
      ]
    }
  ],
  "metadata": {
    "colab": {
      "collapsed_sections": [
        "-E9liidt7PAS",
        "zIimxVHL9tkE",
        "KncWKQFQ974b",
        "d37DrV2c-IFD",
        "0Jmy-udZ-vha",
        "EIcPGpdj-7lj",
        "eAsu8GNN_FbT",
        "mVpEVWgl_V8j",
        "oHiF0DO3_ezE",
        "UK_haJ6l_wTr"
      ],
      "provenance": []
    },
    "kernelspec": {
      "display_name": "Python 3",
      "name": "python3"
    },
    "language_info": {
      "codemirror_mode": {
        "name": "ipython",
        "version": 3
      },
      "file_extension": ".py",
      "mimetype": "text/x-python",
      "name": "python",
      "nbconvert_exporter": "python",
      "pygments_lexer": "ipython3",
      "version": "3.11.9"
    }
  },
  "nbformat": 4,
  "nbformat_minor": 0
}
