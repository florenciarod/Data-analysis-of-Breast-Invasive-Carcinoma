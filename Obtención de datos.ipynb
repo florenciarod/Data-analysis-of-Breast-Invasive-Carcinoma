{
 "cells": [
  {
   "cell_type": "markdown",
   "metadata": {
    "id": "eN4glPob5Oh_"
   },
   "source": [
    "# Obtención de datos\n",
    "\n"
   ]
  },
  {
   "cell_type": "markdown",
   "metadata": {
    "id": "y8x0EHK75pZS"
   },
   "source": [
    "# **1.** Descarga y almacenamiento en DataFrames\n",
    "\n",
    "La página [cBioPortal](https://www.cbioportal.org/datasets) contiene una gran muestra de datos de estudios de cáncer.\n",
    "\n",
    "📥 Se descargaron los datos de un estudio en concreto `Breast Invasive Carcinoma (TCGA, Nature 2012)`."
   ]
  },
  {
   "cell_type": "markdown",
   "metadata": {
    "id": "OrjN3_XH6Igi"
   },
   "source": [
    "### Información básica del paciente\n",
    "El archivo `data_clinical_patient.txt` contiene información de los distintos tipos de pacientes que realizaron el estudio.\n",
    "\n",
    "Leemos su contenido empleando la librería pandas."
   ]
  },
  {
   "cell_type": "code",
   "execution_count": 1,
   "metadata": {
    "id": "VFUlejGcB6aT"
   },
   "outputs": [],
   "source": [
    "import pandas as pd\n",
    "path = '/Users/Usuario PC/OneDrive/Documentos/Esp. Bioinformática/TIAD/brca_tcga_pub'\n",
    "\n",
    "# Leemos el archivo data_clinical_patient.txt y lo guardamos en un DataFrame\n",
    "df_patient = pd.read_csv('brca_tcga_pub/data_clinical_patient.txt', sep='\\t',\n",
    "                         comment='#')"
   ]
  },
  {
   "cell_type": "code",
   "execution_count": 2,
   "metadata": {
    "colab": {
     "base_uri": "https://localhost:8080/"
    },
    "executionInfo": {
     "elapsed": 342,
     "status": "ok",
     "timestamp": 1727910072250,
     "user": {
      "displayName": "santiago ponte",
      "userId": "15088283951817772885"
     },
     "user_tz": 180
    },
    "id": "BFbVVK_sbNNu",
    "outputId": "e3f2a288-ddc4-4b9a-828d-6dbcfe2d7f5c"
   },
   "outputs": [
    {
     "name": "stdout",
     "output_type": "stream",
     "text": [
      "     PATIENT_ID     SEX   AGE METASTASIS   OS_STATUS  OS_MONTHS\n",
      "0  TCGA-A2-A0T2  Female  66.0         M1  1:DECEASED       7.89\n",
      "1  TCGA-A2-A04P  Female  36.0         M0  1:DECEASED      17.97\n",
      "2  TCGA-A1-A0SK  Female  54.0         M0  1:DECEASED      31.77\n",
      "3  TCGA-A2-A0CM  Female  40.0         M0  1:DECEASED      24.77\n",
      "4  TCGA-AR-A1AR  Female  50.0         M0  1:DECEASED      17.18\n",
      "-----------------------------------\n",
      "El DataFrame tiene 825 filas y 6 columnas.\n"
     ]
    }
   ],
   "source": [
    "# Mostrar las primeras filas del DataFrame\n",
    "print(df_patient.head())\n",
    "\n",
    "# Mostrar cantidad de filas del conjunto de datos\n",
    "print(f\"-----------------------------------\")\n",
    "print(f\"El DataFrame tiene {len(df_patient)} filas y {len(df_patient.columns)} columnas.\")"
   ]
  },
  {
   "cell_type": "markdown",
   "metadata": {
    "id": "u0I7OBNACBgT"
   },
   "source": [
    "El conjunto de datos consiste en un conjunto de filas con información variada de un paciente. De cada paciente se conoce:\n",
    "* PATIENT_ID: Identificador único de un paciente\n",
    "* SEX: Identificador del género de un paciente. Valores posibles:\n",
    "  * Male (Masculino)\n",
    "  * Female (Femenino)\n",
    "* AGE: Edad del paciente.\n",
    "* METASTASIS: Indica si se detectó metástasis en el paciente (es decir, si el cáncer se ha propagado a otras partes del cuerpo). Valores posibles:\n",
    "  * M0 (sin metástasis detectada)\n",
    "  * M1 (con metástasis detectada)\n",
    "* OS_STATUS: Refleja el estado de supervivencia general del paciente al final del período de observación. Valores posibles:\n",
    "  * 1:DECEASED (fallecido)\n",
    "  * 0:LIVING (vivo).\n",
    "* OS_MONTHS: Representa el tiempo de supervivencia total del paciente en meses desde el momento del diagnóstico inicial hasta el último seguimiento o fallecimiento."
   ]
  },
  {
   "cell_type": "markdown",
   "metadata": {
    "id": "qxedDlQ1CFDr"
   },
   "source": [
    "### Información Clínica\n",
    "\n",
    "📝 Se repite el mismo proceso para el archivo de datos `data_clinical_sample.txt`."
   ]
  },
  {
   "cell_type": "code",
   "execution_count": 5,
   "metadata": {
    "id": "i6IDX8yvCJaz"
   },
   "outputs": [],
   "source": [
    "import pandas as pd\n",
    "\n",
    "# Leer el archivo data_clinical_sample.txt y lo guardo en un DataFrame\n",
    "df_sample = pd.read_csv('brca_tcga_pub/data_clinical_sample.txt', sep='\\t', comment='#') "
   ]
  },
  {
   "cell_type": "code",
   "execution_count": 6,
   "metadata": {
    "colab": {
     "base_uri": "https://localhost:8080/"
    },
    "executionInfo": {
     "elapsed": 358,
     "status": "ok",
     "timestamp": 1727910092187,
     "user": {
      "displayName": "santiago ponte",
      "userId": "15088283951817772885"
     },
     "user_tz": 180
    },
    "id": "_zQCKFjrbVcX",
    "outputId": "95f6dde6-1cc3-4026-e0f4-171690bd4f71"
   },
   "outputs": [
    {
     "name": "stdout",
     "output_type": "stream",
     "text": [
      "         SAMPLE_ID       PATIENT_ID ER_STATUS PR_STATUS HER2_STATUS  \\\n",
      "0  TCGA-A2-A0T2-01  TCGA-A2-A0T2-01  Negative  Negative    Negative   \n",
      "1  TCGA-A2-A04P-01  TCGA-A2-A04P-01  Negative  Negative    Negative   \n",
      "2  TCGA-A1-A0SK-01  TCGA-A1-A0SK-01  Negative  Negative    Negative   \n",
      "3  TCGA-A2-A0CM-01  TCGA-A2-A0CM-01  Negative  Negative    Negative   \n",
      "4  TCGA-AR-A1AR-01  TCGA-AR-A1AR-01  Negative  Negative    Negative   \n",
      "\n",
      "  TUMOR_STAGE TUMOR_T1_CODED NODES NODE_CODED METASTASIS_CODED  ...  \\\n",
      "0          T3        T_Other    N3   Positive         Positive  ...   \n",
      "1          T2        T_Other    N3   Positive         Negative  ...   \n",
      "2          T2        T_Other    N0   Negative         Negative  ...   \n",
      "3          T2        T_Other    N0   Negative         Negative  ...   \n",
      "4          T1             T1    N2   Positive         Negative  ...   \n",
      "\n",
      "  CN_CLUSTER INTEGRATED_CLUSTERS_WITH_PAM50 INTEGRATED_CLUSTERS_NO_EXP  \\\n",
      "0        3.0                            2.0                        2.0   \n",
      "1        1.0                            2.0                        2.0   \n",
      "2        1.0                            2.0                        2.0   \n",
      "3        4.0                            2.0                        1.0   \n",
      "4        1.0                            NaN                        NaN   \n",
      "\n",
      "   INTEGRATED_CLUSTERS_UNSUP_EXP       CANCER_TYPE_DETAILED  ONCOTREE_CODE  \\\n",
      "0                            2.0  Invasive Breast Carcinoma           BRCA   \n",
      "1                            2.0  Invasive Breast Carcinoma           BRCA   \n",
      "2                            2.0  Invasive Breast Carcinoma           BRCA   \n",
      "3                            1.0  Invasive Breast Carcinoma           BRCA   \n",
      "4                            NaN  Invasive Breast Carcinoma           BRCA   \n",
      "\n",
      "     CANCER_TYPE SAMPLE_TYPE  SOMATIC_STATUS  TMB_NONSYNONYMOUS  \n",
      "0  Breast Cancer     Primary         Matched           0.766667  \n",
      "1  Breast Cancer     Primary         Matched           3.400000  \n",
      "2  Breast Cancer     Primary         Matched           1.600000  \n",
      "3  Breast Cancer     Primary         Matched           1.233333  \n",
      "4  Breast Cancer     Primary         Matched           1.400000  \n",
      "\n",
      "[5 rows x 28 columns]\n",
      "-----------------------------------\n",
      "El DataFrame tiene 825 filas y 28 columnas.\n"
     ]
    }
   ],
   "source": [
    "print(df_sample.head())\n",
    "\n",
    "print(f\"-----------------------------------\")\n",
    "\n",
    "print(f\"El DataFrame tiene {len(df_sample)} filas y {len(df_sample.columns)} \\\n",
    "columnas.\")"
   ]
  },
  {
   "cell_type": "markdown",
   "metadata": {
    "id": "311-82PGCPtM"
   },
   "source": [
    "Este segundo conjunto de datos posee muchos más atributos.\n",
    "\n",
    "Cada fila corresponde a una muestra suministrada por un paciente en específico. De cada muestra se guardan atributos respecto a características biológicas, características moleculares y características clínicas del estudio.\n",
    "\n",
    "En este caso solo hay una muestra por paciente."
   ]
  },
  {
   "cell_type": "markdown",
   "metadata": {
    "id": "XZUV6G7p4XhK"
   },
   "source": [
    "### Información subtipos\n",
    "\n",
    "Queremos unir a los datos información acerca de los subtipos de muestra, esta información se encuentra disponible en el archivo `data_subtypes.txt`.\n",
    "\n",
    "📝 Cargamos el contenido del archivo `data_subtypes.txt`."
   ]
  },
  {
   "cell_type": "code",
   "execution_count": 7,
   "metadata": {
    "id": "Y8U73gg54nVL"
   },
   "outputs": [],
   "source": [
    "import pandas as pd\n",
    "\n",
    "# Leer el archivo data_subtyapes.txt y lo guardo en un DataFrame\n",
    "df_subtypes = pd.read_csv('brca_tcga_pub/data_subtypes.txt', sep='\\t',\n",
    "                          comment='#') # COMPLETAR"
   ]
  },
  {
   "cell_type": "code",
   "execution_count": 8,
   "metadata": {
    "colab": {
     "base_uri": "https://localhost:8080/"
    },
    "executionInfo": {
     "elapsed": 583,
     "status": "ok",
     "timestamp": 1727910119962,
     "user": {
      "displayName": "santiago ponte",
      "userId": "15088283951817772885"
     },
     "user_tz": 180
    },
    "id": "QGnNICDZbqN9",
    "outputId": "6d5a1d5b-e5e2-46c6-e020-c873546aa06a"
   },
   "outputs": [
    {
     "name": "stdout",
     "output_type": "stream",
     "text": [
      "         SAMPLE_ID       PATIENT_ID ER_STATUS PR_STATUS HER2_STATUS  \\\n",
      "0  TCGA-A2-A0T2-01  TCGA-A2-A0T2-01  Negative  Negative    Negative   \n",
      "1  TCGA-A2-A04P-01  TCGA-A2-A04P-01  Negative  Negative    Negative   \n",
      "2  TCGA-A1-A0SK-01  TCGA-A1-A0SK-01  Negative  Negative    Negative   \n",
      "3  TCGA-A2-A0CM-01  TCGA-A2-A0CM-01  Negative  Negative    Negative   \n",
      "4  TCGA-AR-A1AR-01  TCGA-AR-A1AR-01  Negative  Negative    Negative   \n",
      "\n",
      "  TUMOR_STAGE TUMOR_T1_CODED NODES NODE_CODED METASTASIS_CODED  ...  \\\n",
      "0          T3        T_Other    N3   Positive         Positive  ...   \n",
      "1          T2        T_Other    N3   Positive         Negative  ...   \n",
      "2          T2        T_Other    N0   Negative         Negative  ...   \n",
      "3          T2        T_Other    N0   Negative         Negative  ...   \n",
      "4          T1             T1    N2   Positive         Negative  ...   \n",
      "\n",
      "  CN_CLUSTER INTEGRATED_CLUSTERS_WITH_PAM50 INTEGRATED_CLUSTERS_NO_EXP  \\\n",
      "0        3.0                            2.0                        2.0   \n",
      "1        1.0                            2.0                        2.0   \n",
      "2        1.0                            2.0                        2.0   \n",
      "3        4.0                            2.0                        1.0   \n",
      "4        1.0                            NaN                        NaN   \n",
      "\n",
      "   INTEGRATED_CLUSTERS_UNSUP_EXP       CANCER_TYPE_DETAILED  ONCOTREE_CODE  \\\n",
      "0                            2.0  Invasive Breast Carcinoma           BRCA   \n",
      "1                            2.0  Invasive Breast Carcinoma           BRCA   \n",
      "2                            2.0  Invasive Breast Carcinoma           BRCA   \n",
      "3                            1.0  Invasive Breast Carcinoma           BRCA   \n",
      "4                            NaN  Invasive Breast Carcinoma           BRCA   \n",
      "\n",
      "     CANCER_TYPE SAMPLE_TYPE  SOMATIC_STATUS  TMB_NONSYNONYMOUS  \n",
      "0  Breast Cancer     Primary         Matched           0.766667  \n",
      "1  Breast Cancer     Primary         Matched           3.400000  \n",
      "2  Breast Cancer     Primary         Matched           1.600000  \n",
      "3  Breast Cancer     Primary         Matched           1.233333  \n",
      "4  Breast Cancer     Primary         Matched           1.400000  \n",
      "\n",
      "[5 rows x 28 columns]\n",
      "-----------------------------------\n",
      "El DataFrame tiene 825 filas y 28 columnas.\n"
     ]
    }
   ],
   "source": [
    "print(df_sample.head())\n",
    "\n",
    "print(f\"-----------------------------------\")\n",
    "# Si los datos se cargaron correctamente entonces deberia haber 825 filas.\n",
    "print(f\"El DataFrame tiene {len(df_sample)} filas y {len(df_sample.columns)} \\\n",
    "columnas.\")"
   ]
  },
  {
   "cell_type": "markdown",
   "metadata": {
    "id": "sh5eyGroCc1U"
   },
   "source": [
    "### Información genética de los pacientes\n",
    "\n",
    "El conjunto de datos también contiene información de microrna de diversos genes de los pacientes. Los datos se encuentran en varios archivos con algunas variantes, pero vamos a utilizar los del archivo `data_mrna_agilent_microarray_zscores_ref_all_samples.txt` que ya contiene los [z-scores](https://www.ncbi.nlm.nih.gov/pmc/articles/PMC1907322/) para cada gen.\n",
    "\n",
    "📝 Cargamos el contenido del archivo `data_mrna_agilent_microarray_zscores_ref_all_samples.txt`."
   ]
  },
  {
   "cell_type": "code",
   "execution_count": 9,
   "metadata": {
    "id": "_wR3z2hzCrnT"
   },
   "outputs": [],
   "source": [
    "import pandas as pd\n",
    "\n",
    "# Leemos el archivo archivo data_mrna_agilent_microarray_zscores_ref_all_samples.txt\n",
    "# y lo guardo en un DataFrame\n",
    "df_mrna = pd.read_csv(\n",
    "    'brca_tcga_pub/data_mrna_agilent_microarray_zscores_ref_all_samples.txt',\n",
    "    sep='\\t', comment='#') # COMPLETAR"
   ]
  },
  {
   "cell_type": "code",
   "execution_count": 10,
   "metadata": {
    "colab": {
     "base_uri": "https://localhost:8080/"
    },
    "executionInfo": {
     "elapsed": 4,
     "status": "ok",
     "timestamp": 1727910433960,
     "user": {
      "displayName": "santiago ponte",
      "userId": "15088283951817772885"
     },
     "user_tz": 180
    },
    "id": "tMdZN0d4cqF-",
    "outputId": "abf75e28-3f86-49dd-f1a7-25ac93b556de"
   },
   "outputs": [
    {
     "name": "stdout",
     "output_type": "stream",
     "text": [
      "  Hugo_Symbol  Entrez_Gene_Id  TCGA-A1-A0SD-01  TCGA-A1-A0SE-01  \\\n",
      "0     CREB3L1           90993           0.7368           0.0689   \n",
      "1       RPS11            6205           0.8649           0.7607   \n",
      "2       PNMA1            9240           0.9148          -0.3075   \n",
      "3        MMP2            4313           1.3556           0.7121   \n",
      "4    C10orf90          118611          -0.2265          -0.2265   \n",
      "\n",
      "   TCGA-A1-A0SH-01  TCGA-A1-A0SJ-01  TCGA-A1-A0SK-01  TCGA-A1-A0SM-01  \\\n",
      "0           1.5078          -0.6548          -1.6142           1.7558   \n",
      "1           0.0529          -0.8340           0.2455          -1.2366   \n",
      "2           0.3372           1.4930           1.9032           1.2138   \n",
      "3           2.0616          -1.0392          -1.0392           1.4431   \n",
      "4          -0.2265          -0.2265          -0.2265          -0.2265   \n",
      "\n",
      "   TCGA-A1-A0SO-01  TCGA-A1-A0SP-01  ...  TCGA-E2-A15S-01  TCGA-E2-A15T-01  \\\n",
      "0          -1.6142          -1.2067  ...          -1.1187          -0.8458   \n",
      "1          -1.2366          -0.0026  ...          -1.2366          -1.2366   \n",
      "2          -0.8136          -0.7086  ...          -0.2447           2.0398   \n",
      "3          -1.0392          -1.0392  ...          -1.0392          -0.7368   \n",
      "4          -0.2265          -0.2265  ...          -0.2265          -0.2265   \n",
      "\n",
      "   TCGA-E2-A1AZ-01  TCGA-E2-A1B0-01  TCGA-E2-A1B1-01  TCGA-E2-A1B4-01  \\\n",
      "0          -0.6723           0.1751           1.1976           1.0281   \n",
      "1           0.8983          -0.4803          -0.1204          -0.1926   \n",
      "2          -0.8136          -0.8136           0.8452          -0.8136   \n",
      "3           1.3950           1.1083           2.2145          -0.1608   \n",
      "4          -0.2265          -0.2265          -0.2265          -0.2265   \n",
      "\n",
      "   TCGA-E2-A1B5-01  TCGA-E2-A1B6-01  TCGA-E2-A1BC-01  TCGA-E2-A1BD-01  \n",
      "0          -1.6142           0.6994           0.9412          -0.6048  \n",
      "1           0.5102           2.0118           0.6151           0.5036  \n",
      "2          -0.8136          -0.8136          -0.8136          -0.8136  \n",
      "3          -1.0392          -1.0392           1.4886           1.3546  \n",
      "4           3.5047          -0.2265          -0.2265          -0.2265  \n",
      "\n",
      "[5 rows x 528 columns]\n",
      "-----------------------------------\n",
      "El DataFrame tiene 17268 filas y 528 columnas.\n"
     ]
    }
   ],
   "source": [
    "print(df_mrna.head())\n",
    "\n",
    "print(f\"-----------------------------------\")\n",
    "\n",
    "print(f\"El DataFrame tiene {len(df_mrna)} filas y {len(df_mrna.columns)} \\\n",
    "columnas.\")"
   ]
  },
  {
   "cell_type": "markdown",
   "metadata": {},
   "source": [
    "# **2.** Transposición de datos\n",
    "En el archivo `data_mrna_agilent_microarray_zscores_ref_all_samples.txt` los datos de los pacientes (o *muestras*) corresponden a las columnas, y los genes a las filas. Por lo cual se transpuso los mismos, de modo que las filas correspondan a pacientes, para luego unir estos datos con los datos clínicos.\n",
    "\n",
    "**a)** Primeramente, cada gen está identificado por su código [HUGO](https://www.genenames.org/) y su [Entrez_Gene_Id](https://www.ncbi.nlm.nih.gov/gene). Para simplificar, se quitó la columna `Entrez_Gene_Id` y nos quedamos solo con la columna `Hugo_Symbol`."
   ]
  },
  {
   "cell_type": "code",
   "execution_count": 11,
   "metadata": {
    "id": "iTCdec5CDuBr"
   },
   "outputs": [],
   "source": [
    "# Eliminar el atributo 'Entrez_Gene_Id' \n",
    "\n",
    "df_mrna = df_mrna.drop('Entrez_Gene_Id', axis=1) "
   ]
  },
  {
   "cell_type": "markdown",
   "metadata": {},
   "source": [
    "**b)** Adicionalmente se convirtió al atributo `Hugo_Symbol` en el nuevo index, de forma que cuando realicemos la transposición se convierta en el *header* o *index* de las columnas."
   ]
  },
  {
   "cell_type": "code",
   "execution_count": 12,
   "metadata": {
    "id": "opyNqgOGD8L8"
   },
   "outputs": [],
   "source": [
    "# Convertir el atributo 'Hugo_Symbol' en el index del dataframe \n",
    "\n",
    "df_mrna = df_mrna.set_index('Hugo_Symbol') "
   ]
  },
  {
   "cell_type": "markdown",
   "metadata": {},
   "source": [
    "**c)** Se realizó la transposición de los datos guardados en `df_mrna`."
   ]
  },
  {
   "cell_type": "code",
   "execution_count": 13,
   "metadata": {
    "id": "pxpdTTlmD-Tb"
   },
   "outputs": [],
   "source": [
    "# Transposicion de la matriz de datos con  la funcion'transpose' de pandas\n",
    "\n",
    "df_mrna = df_mrna.transpose() "
   ]
  },
  {
   "cell_type": "code",
   "execution_count": null,
   "metadata": {
    "colab": {
     "base_uri": "https://localhost:8080/"
    },
    "executionInfo": {
     "elapsed": 315,
     "status": "ok",
     "timestamp": 1727912143226,
     "user": {
      "displayName": "santiago ponte",
      "userId": "15088283951817772885"
     },
     "user_tz": 180
    },
    "id": "N_eQeDAvECTr",
    "outputId": "bd265723-e78b-49b6-f879-449c0729bd11"
   },
   "outputs": [
    {
     "name": "stdout",
     "output_type": "stream",
     "text": [
      "Hugo_Symbol      CREB3L1   RPS11   PNMA1    MMP2  C10orf90    ZHX3   ERCC5  \\\n",
      "TCGA-A1-A0SD-01   0.7368  0.8649  0.9148  1.3556   -0.2265 -0.2231 -0.7617   \n",
      "TCGA-A1-A0SE-01   0.0689  0.7607 -0.3075  0.7121   -0.2265 -0.4904 -0.7617   \n",
      "TCGA-A1-A0SH-01   1.5078  0.0529  0.3372  2.0616   -0.2265  1.7211 -0.7286   \n",
      "TCGA-A1-A0SJ-01  -0.6548 -0.8340  1.4930 -1.0392   -0.2265  0.9205 -0.6028   \n",
      "TCGA-A1-A0SK-01  -1.6142  0.2455  1.9032 -1.0392   -0.2265 -0.4904  1.9115   \n",
      "\n",
      "Hugo_Symbol       GPR98   RXFP3   APBB2  ...  SLC2A11   GRIP2  GPLD1   RAB8A  \\\n",
      "TCGA-A1-A0SD-01 -0.3734 -1.6757  0.7617  ...   0.5858 -0.2865 -0.363 -1.0504   \n",
      "TCGA-A1-A0SE-01 -0.6993  0.0418  0.4423  ...   0.2056 -0.2865 -0.363  0.5569   \n",
      "TCGA-A1-A0SH-01 -0.6993 -0.4603  0.9967  ...  -0.6395 -0.2865 -0.363  1.2530   \n",
      "TCGA-A1-A0SJ-01 -0.6993  0.7799  0.9798  ...   1.2210 -0.2831 -0.363 -0.3855   \n",
      "TCGA-A1-A0SK-01 -0.6515 -1.6757 -0.2198  ...  -0.6395 -0.2865 -0.363  1.3462   \n",
      "\n",
      "Hugo_Symbol       RXFP2  PIK3IP1  SLC39A6  SNRPD2    AQP7    CTSC  \n",
      "TCGA-A1-A0SD-01 -0.0003   0.0502  -0.1172 -0.3685 -0.5218 -0.5842  \n",
      "TCGA-A1-A0SE-01 -0.3267   1.0249   0.9246 -0.7249 -0.5218 -0.5842  \n",
      "TCGA-A1-A0SH-01  0.4787   0.5455  -0.2924 -0.7249 -0.5218 -0.5842  \n",
      "TCGA-A1-A0SJ-01 -1.0854   1.0722   1.4126  0.6599  2.1278 -0.5842  \n",
      "TCGA-A1-A0SK-01 -0.8133  -0.0933  -0.9826 -0.7018 -0.5218 -0.5842  \n",
      "\n",
      "[5 rows x 17268 columns]\n",
      "-----------------------------------\n",
      "El DataFrame tiene 526 filas y 17268 columnas.\n"
     ]
    }
   ],
   "source": [
    "print(df_mrna.head())\n",
    "\n",
    "print(f\"-----------------------------------\")\n",
    "\n",
    "print(f\"El DataFrame tiene {len(df_mrna)} filas y {len(df_mrna.columns)} \\\n",
    "columnas.\")"
   ]
  },
  {
   "cell_type": "markdown",
   "metadata": {
    "id": "YX1ZzcZdEF7k"
   },
   "source": [
    "# **3.** Unir datos en una única tabla.\n",
    "\n",
    "En este punto se dispone de cuatro DataFrames guardados en las variables `df_patient`, `df_sample`, `df_subtypes` y `df_mrna` respectivamente."
   ]
  },
  {
   "cell_type": "markdown",
   "metadata": {},
   "source": [
    "Se sabe que cada muestra de `df_sample` se corresponde con 1 y solo 1 paciente de `df_patient`. Uniremos estas dos tablas en un único DataFrame.\n",
    "\n",
    "### 📝 **a)** A continuación se muestra una operación de *JOIN* entre las dos tablas. Se unen los atributos de cada paciente con los atributos de su muestra. Consiguiendo un único dataset que contiene en cada fila la información de un paciente y de su muestra."
   ]
  },
  {
   "cell_type": "code",
   "execution_count": 15,
   "metadata": {
    "id": "WLbSkPbaFCVU"
   },
   "outputs": [],
   "source": [
    "# El PATIENT_ID de df_sample tiene un formato ligeramente distinto al de\n",
    "# df_patient. Tiene que ser el mismo.\n",
    "# PATIENT_ID de df_sample agrega al final de cada PATIENT_ID el texto '-01'.\n",
    "# PATIENT_ID de df_patient no lo hace.\n",
    "# SE quitará el '-01' extra del PATIENT_ID de df_sample para que sus valores sean iguales\n",
    "df_sample['PATIENT_ID'] = df_sample['PATIENT_ID'].str.split('-').str[:3].str.join('-')"
   ]
  },
  {
   "cell_type": "code",
   "execution_count": 16,
   "metadata": {
    "id": "VK9zGSqkFRSM"
   },
   "outputs": [],
   "source": [
    "# Se Unen cada fila de df_patient con otra fila de df_sample\n",
    "# según si las 2 filas a unir tienen o no el mismo PATIENT_ID)\n",
    "df_mix = pd.merge(df_patient, df_sample,\n",
    "                  left_on='PATIENT_ID',   # Atributo de conexión en df_patient\n",
    "                  right_on='PATIENT_ID',  # Atributo de conexión en df_sample\n",
    "                  how='left')"
   ]
  },
  {
   "cell_type": "code",
   "execution_count": 17,
   "metadata": {
    "colab": {
     "base_uri": "https://localhost:8080/"
    },
    "executionInfo": {
     "elapsed": 297,
     "status": "ok",
     "timestamp": 1727912106397,
     "user": {
      "displayName": "santiago ponte",
      "userId": "15088283951817772885"
     },
     "user_tz": 180
    },
    "id": "izFQhMgOFYX8",
    "outputId": "11cfe364-c691-4510-ddfc-bfebda7db21d"
   },
   "outputs": [
    {
     "name": "stdout",
     "output_type": "stream",
     "text": [
      "     PATIENT_ID     SEX   AGE METASTASIS   OS_STATUS  OS_MONTHS  \\\n",
      "0  TCGA-A2-A0T2  Female  66.0         M1  1:DECEASED       7.89   \n",
      "1  TCGA-A2-A04P  Female  36.0         M0  1:DECEASED      17.97   \n",
      "2  TCGA-A1-A0SK  Female  54.0         M0  1:DECEASED      31.77   \n",
      "3  TCGA-A2-A0CM  Female  40.0         M0  1:DECEASED      24.77   \n",
      "4  TCGA-AR-A1AR  Female  50.0         M0  1:DECEASED      17.18   \n",
      "\n",
      "         SAMPLE_ID ER_STATUS PR_STATUS HER2_STATUS  ... CN_CLUSTER  \\\n",
      "0  TCGA-A2-A0T2-01  Negative  Negative    Negative  ...        3.0   \n",
      "1  TCGA-A2-A04P-01  Negative  Negative    Negative  ...        1.0   \n",
      "2  TCGA-A1-A0SK-01  Negative  Negative    Negative  ...        1.0   \n",
      "3  TCGA-A2-A0CM-01  Negative  Negative    Negative  ...        4.0   \n",
      "4  TCGA-AR-A1AR-01  Negative  Negative    Negative  ...        1.0   \n",
      "\n",
      "  INTEGRATED_CLUSTERS_WITH_PAM50 INTEGRATED_CLUSTERS_NO_EXP  \\\n",
      "0                            2.0                        2.0   \n",
      "1                            2.0                        2.0   \n",
      "2                            2.0                        2.0   \n",
      "3                            2.0                        1.0   \n",
      "4                            NaN                        NaN   \n",
      "\n",
      "  INTEGRATED_CLUSTERS_UNSUP_EXP       CANCER_TYPE_DETAILED ONCOTREE_CODE  \\\n",
      "0                           2.0  Invasive Breast Carcinoma          BRCA   \n",
      "1                           2.0  Invasive Breast Carcinoma          BRCA   \n",
      "2                           2.0  Invasive Breast Carcinoma          BRCA   \n",
      "3                           1.0  Invasive Breast Carcinoma          BRCA   \n",
      "4                           NaN  Invasive Breast Carcinoma          BRCA   \n",
      "\n",
      "     CANCER_TYPE SAMPLE_TYPE  SOMATIC_STATUS  TMB_NONSYNONYMOUS  \n",
      "0  Breast Cancer     Primary         Matched           0.766667  \n",
      "1  Breast Cancer     Primary         Matched           3.400000  \n",
      "2  Breast Cancer     Primary         Matched           1.600000  \n",
      "3  Breast Cancer     Primary         Matched           1.233333  \n",
      "4  Breast Cancer     Primary         Matched           1.400000  \n",
      "\n",
      "[5 rows x 33 columns]\n",
      "-----------------------------------\n",
      "El DataFrame tiene 825 filas y 33 columnas.\n"
     ]
    }
   ],
   "source": [
    "print(df_mix.head())\n",
    "\n",
    "print(f\"-----------------------------------\")\n",
    "\n",
    "print(f\"El DataFrame tiene {len(df_mix)} filas y {len(df_mix.columns)} \\\n",
    "columnas.\")"
   ]
  },
  {
   "cell_type": "markdown",
   "metadata": {
    "id": "t_iFAedO5Hn8"
   },
   "source": [
    "### 📝 **b)** Se repite la operación de *JOIN* ahora entre los DataFrames `df_mix` y el contenido del archivo `df_subtype`.\n",
    "\n",
    "NOTA: notar que el atributo que tienen en comun ambos DataFrames se llama `SAMPLE_ID` en `df_mix` y `CASE_ID` para `df_subtype`."
   ]
  },
  {
   "cell_type": "code",
   "execution_count": 18,
   "metadata": {
    "id": "zbmGJFWC5NDb"
   },
   "outputs": [],
   "source": [
    "# Se Une cada fila de df_mix con otra fila de df_subtype según\n",
    "# si tienen los mismos valores en SAMPLE_ID y en CASE_ID respectivamente.\n",
    "\n",
    "df_mix2 = pd.merge(df_mix, df_subtypes, left_on='SAMPLE_ID', right_on='CASE_ID', how='left') "
   ]
  },
  {
   "cell_type": "code",
   "execution_count": 19,
   "metadata": {
    "colab": {
     "base_uri": "https://localhost:8080/"
    },
    "executionInfo": {
     "elapsed": 361,
     "status": "ok",
     "timestamp": 1727912369606,
     "user": {
      "displayName": "santiago ponte",
      "userId": "15088283951817772885"
     },
     "user_tz": 180
    },
    "id": "DCbTPxS55PN0",
    "outputId": "b3b69cb0-2175-49bd-fba9-4f5fab4d9d5a"
   },
   "outputs": [
    {
     "name": "stdout",
     "output_type": "stream",
     "text": [
      "     PATIENT_ID     SEX   AGE METASTASIS   OS_STATUS  OS_MONTHS  \\\n",
      "0  TCGA-A2-A0T2  Female  66.0         M1  1:DECEASED       7.89   \n",
      "1  TCGA-A2-A04P  Female  36.0         M0  1:DECEASED      17.97   \n",
      "2  TCGA-A1-A0SK  Female  54.0         M0  1:DECEASED      31.77   \n",
      "3  TCGA-A2-A0CM  Female  40.0         M0  1:DECEASED      24.77   \n",
      "4  TCGA-AR-A1AR  Female  50.0         M0  1:DECEASED      17.18   \n",
      "\n",
      "         SAMPLE_ID ER_STATUS PR_STATUS HER2_STATUS  ...  \\\n",
      "0  TCGA-A2-A0T2-01  Negative  Negative    Negative  ...   \n",
      "1  TCGA-A2-A04P-01  Negative  Negative    Negative  ...   \n",
      "2  TCGA-A1-A0SK-01  Negative  Negative    Negative  ...   \n",
      "3  TCGA-A2-A0CM-01  Negative  Negative    Negative  ...   \n",
      "4  TCGA-AR-A1AR-01  Negative  Negative    Negative  ...   \n",
      "\n",
      "  INTEGRATED_CLUSTERS_NO_EXP INTEGRATED_CLUSTERS_UNSUP_EXP  \\\n",
      "0                        2.0                           2.0   \n",
      "1                        2.0                           2.0   \n",
      "2                        2.0                           2.0   \n",
      "3                        1.0                           1.0   \n",
      "4                        NaN                           NaN   \n",
      "\n",
      "        CANCER_TYPE_DETAILED ONCOTREE_CODE    CANCER_TYPE SAMPLE_TYPE  \\\n",
      "0  Invasive Breast Carcinoma          BRCA  Breast Cancer     Primary   \n",
      "1  Invasive Breast Carcinoma          BRCA  Breast Cancer     Primary   \n",
      "2  Invasive Breast Carcinoma          BRCA  Breast Cancer     Primary   \n",
      "3  Invasive Breast Carcinoma          BRCA  Breast Cancer     Primary   \n",
      "4  Invasive Breast Carcinoma          BRCA  Breast Cancer     Primary   \n",
      "\n",
      "  SOMATIC_STATUS TMB_NONSYNONYMOUS          CASE_ID     subtype  \n",
      "0        Matched          0.766667              NaN         NaN  \n",
      "1        Matched          3.400000  TCGA-A2-A04P-01  basal-like  \n",
      "2        Matched          1.600000  TCGA-A1-A0SK-01  basal-like  \n",
      "3        Matched          1.233333  TCGA-A2-A0CM-01  basal-like  \n",
      "4        Matched          1.400000  TCGA-AR-A1AR-01  basal-like  \n",
      "\n",
      "[5 rows x 35 columns]\n",
      "-----------------------------------\n",
      "El DataFrame tiene 825 filas y 35 columnas.\n"
     ]
    }
   ],
   "source": [
    "print(df_mix2.head())\n",
    "\n",
    "print(f\"-----------------------------------\")\n",
    "\n",
    "print(f\"El DataFrame tiene {len(df_mix2)} filas y {len(df_mix2.columns)} \\\n",
    "columnas.\")"
   ]
  },
  {
   "cell_type": "markdown",
   "metadata": {
    "id": "IYDdwzOp5TC7"
   },
   "source": [
    "El DataFrame df_mix2 quedó con ambos atributos SAMPLE_ID y CASE_ID.\n",
    "\n",
    "📝 Se elimina el atributo CASE_ID."
   ]
  },
  {
   "cell_type": "code",
   "execution_count": null,
   "metadata": {
    "id": "BN4DlATo5U47"
   },
   "outputs": [],
   "source": [
    "df_mix2.drop('CASE_ID', axis=1, inplace=True)"
   ]
  },
  {
   "cell_type": "code",
   "execution_count": 22,
   "metadata": {
    "colab": {
     "base_uri": "https://localhost:8080/"
    },
    "executionInfo": {
     "elapsed": 335,
     "status": "ok",
     "timestamp": 1727912412356,
     "user": {
      "displayName": "santiago ponte",
      "userId": "15088283951817772885"
     },
     "user_tz": 180
    },
    "id": "v5DLHDoH5Wcr",
    "outputId": "b4bc0a89-dd94-48b7-b4bd-409a0c4ab7a2"
   },
   "outputs": [
    {
     "name": "stdout",
     "output_type": "stream",
     "text": [
      "     PATIENT_ID     SEX   AGE METASTASIS   OS_STATUS  OS_MONTHS  \\\n",
      "0  TCGA-A2-A0T2  Female  66.0         M1  1:DECEASED       7.89   \n",
      "1  TCGA-A2-A04P  Female  36.0         M0  1:DECEASED      17.97   \n",
      "2  TCGA-A1-A0SK  Female  54.0         M0  1:DECEASED      31.77   \n",
      "3  TCGA-A2-A0CM  Female  40.0         M0  1:DECEASED      24.77   \n",
      "4  TCGA-AR-A1AR  Female  50.0         M0  1:DECEASED      17.18   \n",
      "\n",
      "         SAMPLE_ID ER_STATUS PR_STATUS HER2_STATUS  ...  \\\n",
      "0  TCGA-A2-A0T2-01  Negative  Negative    Negative  ...   \n",
      "1  TCGA-A2-A04P-01  Negative  Negative    Negative  ...   \n",
      "2  TCGA-A1-A0SK-01  Negative  Negative    Negative  ...   \n",
      "3  TCGA-A2-A0CM-01  Negative  Negative    Negative  ...   \n",
      "4  TCGA-AR-A1AR-01  Negative  Negative    Negative  ...   \n",
      "\n",
      "  INTEGRATED_CLUSTERS_WITH_PAM50 INTEGRATED_CLUSTERS_NO_EXP  \\\n",
      "0                            2.0                        2.0   \n",
      "1                            2.0                        2.0   \n",
      "2                            2.0                        2.0   \n",
      "3                            2.0                        1.0   \n",
      "4                            NaN                        NaN   \n",
      "\n",
      "  INTEGRATED_CLUSTERS_UNSUP_EXP       CANCER_TYPE_DETAILED ONCOTREE_CODE  \\\n",
      "0                           2.0  Invasive Breast Carcinoma          BRCA   \n",
      "1                           2.0  Invasive Breast Carcinoma          BRCA   \n",
      "2                           2.0  Invasive Breast Carcinoma          BRCA   \n",
      "3                           1.0  Invasive Breast Carcinoma          BRCA   \n",
      "4                           NaN  Invasive Breast Carcinoma          BRCA   \n",
      "\n",
      "     CANCER_TYPE SAMPLE_TYPE SOMATIC_STATUS  TMB_NONSYNONYMOUS     subtype  \n",
      "0  Breast Cancer     Primary        Matched           0.766667         NaN  \n",
      "1  Breast Cancer     Primary        Matched           3.400000  basal-like  \n",
      "2  Breast Cancer     Primary        Matched           1.600000  basal-like  \n",
      "3  Breast Cancer     Primary        Matched           1.233333  basal-like  \n",
      "4  Breast Cancer     Primary        Matched           1.400000  basal-like  \n",
      "\n",
      "[5 rows x 34 columns]\n",
      "-----------------------------------\n",
      "El DataFrame tiene 825 filas y 34 columnas.\n"
     ]
    }
   ],
   "source": [
    "print(df_mix2.head())\n",
    "\n",
    "print(f\"-----------------------------------\")\n",
    "\n",
    "print(f\"El DataFrame tiene {len(df_mix2)} filas y {len(df_mix2.columns)} \\\n",
    "columnas.\")"
   ]
  },
  {
   "cell_type": "markdown",
   "metadata": {
    "id": "EIYYFgIc5aH8"
   },
   "source": [
    "### 📝 **c)** Finalmente el DataFrame `df_mrna`, se une con los datos de `df_mix2`.\n",
    "\n",
    "Para realizar la conexión entre cada fila se utiliza el atributo PATIENT_ID del lado de `df_mix2`. `df_mrna` no tiene este atributo en una primera instancia, pero si tiene el atributo Hugo_Symbol, del cual se puede calcular el PATIENT_ID si a cada Hugo_Symbol se le quita la extensión final -01. del lado de `df_mrna`."
   ]
  },
  {
   "cell_type": "code",
   "execution_count": 23,
   "metadata": {
    "id": "4fubA_yk5kij"
   },
   "outputs": [],
   "source": [
    "# 'Hugo_Symbol' se está usando como index en 'df_mrna'\n",
    "df_mrna['PATIENT_ID'] = df_mrna.index.str.split('-').str[:3].str.join('-') "
   ]
  },
  {
   "cell_type": "code",
   "execution_count": 24,
   "metadata": {
    "colab": {
     "base_uri": "https://localhost:8080/"
    },
    "executionInfo": {
     "elapsed": 327,
     "status": "ok",
     "timestamp": 1727912532485,
     "user": {
      "displayName": "santiago ponte",
      "userId": "15088283951817772885"
     },
     "user_tz": 180
    },
    "id": "kVsKQ5zA5mbE",
    "outputId": "53fadaf5-83b1-4a23-ab0f-75219b687643"
   },
   "outputs": [
    {
     "name": "stdout",
     "output_type": "stream",
     "text": [
      "Hugo_Symbol      CREB3L1   RPS11   PNMA1    MMP2  C10orf90    ZHX3   ERCC5  \\\n",
      "TCGA-A1-A0SD-01   0.7368  0.8649  0.9148  1.3556   -0.2265 -0.2231 -0.7617   \n",
      "TCGA-A1-A0SE-01   0.0689  0.7607 -0.3075  0.7121   -0.2265 -0.4904 -0.7617   \n",
      "TCGA-A1-A0SH-01   1.5078  0.0529  0.3372  2.0616   -0.2265  1.7211 -0.7286   \n",
      "TCGA-A1-A0SJ-01  -0.6548 -0.8340  1.4930 -1.0392   -0.2265  0.9205 -0.6028   \n",
      "TCGA-A1-A0SK-01  -1.6142  0.2455  1.9032 -1.0392   -0.2265 -0.4904  1.9115   \n",
      "\n",
      "Hugo_Symbol       GPR98   RXFP3   APBB2  ...   GRIP2  GPLD1   RAB8A   RXFP2  \\\n",
      "TCGA-A1-A0SD-01 -0.3734 -1.6757  0.7617  ... -0.2865 -0.363 -1.0504 -0.0003   \n",
      "TCGA-A1-A0SE-01 -0.6993  0.0418  0.4423  ... -0.2865 -0.363  0.5569 -0.3267   \n",
      "TCGA-A1-A0SH-01 -0.6993 -0.4603  0.9967  ... -0.2865 -0.363  1.2530  0.4787   \n",
      "TCGA-A1-A0SJ-01 -0.6993  0.7799  0.9798  ... -0.2831 -0.363 -0.3855 -1.0854   \n",
      "TCGA-A1-A0SK-01 -0.6515 -1.6757 -0.2198  ... -0.2865 -0.363  1.3462 -0.8133   \n",
      "\n",
      "Hugo_Symbol      PIK3IP1  SLC39A6  SNRPD2    AQP7    CTSC    PATIENT_ID  \n",
      "TCGA-A1-A0SD-01   0.0502  -0.1172 -0.3685 -0.5218 -0.5842  TCGA-A1-A0SD  \n",
      "TCGA-A1-A0SE-01   1.0249   0.9246 -0.7249 -0.5218 -0.5842  TCGA-A1-A0SE  \n",
      "TCGA-A1-A0SH-01   0.5455  -0.2924 -0.7249 -0.5218 -0.5842  TCGA-A1-A0SH  \n",
      "TCGA-A1-A0SJ-01   1.0722   1.4126  0.6599  2.1278 -0.5842  TCGA-A1-A0SJ  \n",
      "TCGA-A1-A0SK-01  -0.0933  -0.9826 -0.7018 -0.5218 -0.5842  TCGA-A1-A0SK  \n",
      "\n",
      "[5 rows x 17269 columns]\n",
      "-----------------------------------\n",
      "El DataFrame tiene 526 filas y 17269 columnas.\n"
     ]
    }
   ],
   "source": [
    "print(df_mrna.head())\n",
    "\n",
    "print(f\"-----------------------------------\")\n",
    "\n",
    "print(f\"El DataFrame tiene {len(df_mrna)} filas y {len(df_mrna.columns)} \\\n",
    "columnas.\")"
   ]
  },
  {
   "cell_type": "markdown",
   "metadata": {
    "id": "8o0IVHgu5tc0"
   },
   "source": [
    "📝 Ahora, ambos DataFrames poseen el atributo de conexión `PATIENT_ID`. Se realiza un *JOIN* entre `df_mix2` y `df_mrna` usando `PATIENT_ID` como atributo de unión."
   ]
  },
  {
   "cell_type": "code",
   "execution_count": 25,
   "metadata": {
    "id": "aIWBNlVE5wPk"
   },
   "outputs": [],
   "source": [
    "# Se realiza el JOIN de los Dataframes 'df_mix2' y 'df_mrna'\n",
    "df = pd.merge(df_mix2, df_mrna, left_on='PATIENT_ID', right_on='PATIENT_ID',\n",
    "              how='left') # COMPLETAR"
   ]
  },
  {
   "cell_type": "code",
   "execution_count": 26,
   "metadata": {
    "colab": {
     "base_uri": "https://localhost:8080/"
    },
    "executionInfo": {
     "elapsed": 339,
     "status": "ok",
     "timestamp": 1727912578416,
     "user": {
      "displayName": "santiago ponte",
      "userId": "15088283951817772885"
     },
     "user_tz": 180
    },
    "id": "2ePrDWkE5zP7",
    "outputId": "fef86e87-dda9-4cd0-f05e-75c57aeae47d"
   },
   "outputs": [
    {
     "name": "stdout",
     "output_type": "stream",
     "text": [
      "     PATIENT_ID     SEX   AGE METASTASIS   OS_STATUS  OS_MONTHS  \\\n",
      "0  TCGA-A2-A0T2  Female  66.0         M1  1:DECEASED       7.89   \n",
      "1  TCGA-A2-A04P  Female  36.0         M0  1:DECEASED      17.97   \n",
      "2  TCGA-A1-A0SK  Female  54.0         M0  1:DECEASED      31.77   \n",
      "3  TCGA-A2-A0CM  Female  40.0         M0  1:DECEASED      24.77   \n",
      "4  TCGA-AR-A1AR  Female  50.0         M0  1:DECEASED      17.18   \n",
      "\n",
      "         SAMPLE_ID ER_STATUS PR_STATUS HER2_STATUS  ... SLC2A11   GRIP2  \\\n",
      "0  TCGA-A2-A0T2-01  Negative  Negative    Negative  ...  2.1991  0.1544   \n",
      "1  TCGA-A2-A04P-01  Negative  Negative    Negative  ... -0.6395 -0.2865   \n",
      "2  TCGA-A1-A0SK-01  Negative  Negative    Negative  ... -0.6395 -0.2865   \n",
      "3  TCGA-A2-A0CM-01  Negative  Negative    Negative  ... -0.6395 -0.2865   \n",
      "4  TCGA-AR-A1AR-01  Negative  Negative    Negative  ... -0.6395 -0.2865   \n",
      "\n",
      "   GPLD1   RAB8A   RXFP2 PIK3IP1 SLC39A6  SNRPD2    AQP7    CTSC  \n",
      "0 -0.363 -0.1779  1.1753 -1.6969 -0.9826  0.1062 -0.5218 -0.5842  \n",
      "1 -0.363  1.9209  1.2128 -2.5818 -0.9826  1.0638 -0.3011  0.4852  \n",
      "2 -0.363  1.3462 -0.8133 -0.0933 -0.9826 -0.7018 -0.5218 -0.5842  \n",
      "3 -0.363 -0.3764  0.7278 -0.5590 -0.9826  0.7508 -0.5218 -0.1063  \n",
      "4 -0.363 -0.6716  0.9018 -0.3168 -0.9826  0.1956  2.1747  1.8586  \n",
      "\n",
      "[5 rows x 17302 columns]\n",
      "-----------------------------------\n",
      "El DataFrame tiene 825 filas y 17302 columnas.\n"
     ]
    }
   ],
   "source": [
    "print(df.head())\n",
    "\n",
    "print(f\"-----------------------------------\")\n",
    "\n",
    "print(f\"El DataFrame tiene {len(df)} filas y {len(df.columns)} columnas.\")"
   ]
  },
  {
   "cell_type": "markdown",
   "metadata": {
    "id": "as3ALXPd50u9"
   },
   "source": [
    "# **4.** Almacenar resultados.\n",
    "\n",
    "Se guarda el DataFrame final `df` en formato *csv* para luego poder procesar los datos."
   ]
  },
  {
   "cell_type": "code",
   "execution_count": 34,
   "metadata": {
    "id": "4GeBc7w36Uyl"
   },
   "outputs": [],
   "source": [
    "nombre = 'df_unico.csv' \n",
    "df.to_csv(nombre, index=False) "
   ]
  }
 ],
 "metadata": {
  "colab": {
   "authorship_tag": "ABX9TyMP+pfsfLGOAO9AIALP1xHv",
   "collapsed_sections": [
    "y8x0EHK75pZS",
    "OrjN3_XH6Igi",
    "qxedDlQ1CFDr",
    "XZUV6G7p4XhK",
    "sh5eyGroCc1U",
    "QeC-kCFMC3cz",
    "YX1ZzcZdEF7k"
   ],
   "provenance": []
  },
  "kernelspec": {
   "display_name": "Python 3",
   "name": "python3"
  },
  "language_info": {
   "codemirror_mode": {
    "name": "ipython",
    "version": 3
   },
   "file_extension": ".py",
   "mimetype": "text/x-python",
   "name": "python",
   "nbconvert_exporter": "python",
   "pygments_lexer": "ipython3",
   "version": "3.11.9"
  }
 },
 "nbformat": 4,
 "nbformat_minor": 0
}
